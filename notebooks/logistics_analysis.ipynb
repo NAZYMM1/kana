# Calculate delivery metrics
delivery_metrics = analyzer.calculate_delivery_metrics()

print("🚚 DELIVERY PERFORMANCE METRICS")
print("="*50)
for metric, value in delivery_metrics.items():
    if isinstance(value, float):
        if 'percentage' in metric.lower() or 'rate' in metric.lower():
            print(f"{metric}: {value:.1f}%")
        elif 'cost' in metric.lower() or 'value' in metric.lower():
            print(f"{metric}: {value:,.0f} RUB")
        else:
            print(f"{metric}: {value:.2f}")
    else:
        print(f"{metric}: {value}")

# Create visualizations for delivery performance
fig, axes = plt.subplots(2, 2, figsize=(15, 12))

# 1. Delivery Status Distribution
status_counts = analyzer.shipments['status'].value_counts()
axes[0,0].pie(status_counts.values, labels=status_counts.index, autopct='%1.1f%%', startangle=90)
axes[0,0].set_title('Delivery Status Distribution')

# 2. Monthly Delivery Trends
analyzer.shipments['ship_month'] = pd.to_datetime(analyzer.shipments['ship_date']).dt.to_period('M')
monthly_shipments = analyzer.shipments.groupby('ship_month').size()
axes[0,1].plot(range(len(monthly_shipments)), monthly_shipments.values, marker='o', linewidth=2)
axes[0,1].set_title('Monthly Shipment Volume')
axes[0,1].set_ylabel('Number of Shipments')
axes[0,1].grid(True, alpha=0.3)

# 3. Cost vs Weight Scatter
axes[1,0].scatter(analyzer.shipments['weight_kg'], analyzer.shipments['delivery_cost'], alpha=0.6)
axes[1,0].set_xlabel('Weight (kg)')
axes[1,0].set_ylabel('Delivery Cost (RUB)')
axes[1,0].set_title('Cost vs Weight Relationship')

# 4. Delivery Time Distribution
analyzer.shipments['delivery_days'] = (pd.to_datetime(analyzer.shipments['actual_delivery']) - 
                                      pd.to_datetime(analyzer.shipments['ship_date'])).dt.days
axes[1,1].hist(analyzer.shipments['delivery_days'], bins=20, alpha=0.7, edgecolor='black')
axes[1,1].set_xlabel('Delivery Days')
axes[1,1].set_ylabel('Frequency')
axes[1,1].set_title('Delivery Time Distribution')

plt.tight_layout()
plt.savefig('../visualizations/delivery_performance_overview.png', dpi=300, bbox_inches='tight')
plt.show()## 1. Delivery Performance Analysis

Let's start by analyzing overall delivery performance and identifying key patterns in delays and efficiency.# Initialize the LogisticsAnalyzer with our data
analyzer = LogisticsAnalyzer('../data')

# Load and display basic data info
print("📊 Data Loading Summary:")
print(f"Shipments: {len(analyzer.shipments):,} records")
print(f"Routes: {len(analyzer.routes):,} records") 
print(f"Carriers: {len(analyzer.carriers):,} records")
print(f"Warehouses: {len(analyzer.warehouses):,} records")
print(f"Delays: {len(analyzer.delays):,} records")

# Display sample data
print("\n📦 Sample Shipments Data:")
analyzer.shipments.head()# Import required libraries
import pandas as pd
import numpy as np
import matplotlib.pyplot as plt
import seaborn as sns
import plotly.express as px
import plotly.graph_objects as go
from plotly.subplots import make_subplots
import warnings
warnings.filterwarnings('ignore')

# Import our custom analysis utilities
import sys
sys.path.append('../src')
from analysis_utils import LogisticsAnalyzer

# Set up plotting style
plt.style.use('seaborn-v0_8')
sns.set_palette("husl")

print("📦 Lancaster Group Logistics Analysis - Libraries Loaded Successfully!")# Lancaster Group Logistics Efficiency Analysis

## Project Overview
This notebook provides a comprehensive analysis of Lancaster Group's logistics operations to identify inefficient routes, delivery delays, and provide optimization recommendations for time and cost savings.

### Analysis Goals:
1. Identify route inefficiencies and delivery delays
2. Analyze carrier performance and reliability  
3. Evaluate warehouse utilization
4. Provide actionable recommendations for optimization

### Key Findings Preview:
- 9.0% delivery delay rate across 5,000 shipments
- 3 warehouses operating at >85% capacity
- Significant cost savings potential identified